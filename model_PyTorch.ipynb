{
 "cells": [
  {
   "cell_type": "code",
   "execution_count": 1,
   "source": [
    "import torch\r\n",
    "import torch.nn as nn\r\n",
    "from torch.utils.data import DataLoader\r\n",
    "import torchvision.transforms as transforms\r\n",
    "import torchvision.datasets\r\n",
    "from bokeh.plotting import figure\r\n",
    "from bokeh.io import show\r\n",
    "from bokeh.models import LinearAxis, Range1d\r\n",
    "import numpy as np\r\n",
    "\r\n",
    "from logger import logger"
   ],
   "outputs": [],
   "metadata": {}
  },
  {
   "cell_type": "code",
   "execution_count": 2,
   "source": [
    "torch.cuda.is_available()"
   ],
   "outputs": [
    {
     "output_type": "execute_result",
     "data": {
      "text/plain": [
       "True"
      ]
     },
     "metadata": {},
     "execution_count": 2
    }
   ],
   "metadata": {}
  },
  {
   "cell_type": "code",
   "execution_count": 3,
   "source": [
    "torch.cuda.get_device_name(0)"
   ],
   "outputs": [
    {
     "output_type": "execute_result",
     "data": {
      "text/plain": [
       "'NVIDIA GeForce GTX 1650'"
      ]
     },
     "metadata": {},
     "execution_count": 3
    }
   ],
   "metadata": {}
  },
  {
   "cell_type": "code",
   "execution_count": 4,
   "source": [
    "#device = torch.device(\"cuda:0\" if torch.cuda.is_available() else \"cpu\")\r\n",
    "device = torch.device(\"cuda:0\")"
   ],
   "outputs": [],
   "metadata": {}
  },
  {
   "cell_type": "code",
   "execution_count": 5,
   "source": [
    "# Hyperparameters\r\n",
    "num_epochs = 6\r\n",
    "num_classes = 10\r\n",
    "batch_size = 100\r\n",
    "learning_rate = 0.001\r\n",
    "\r\n",
    "DATA_PATH = 'MNISTData'\r\n",
    "\r\n",
    "# transforms to apply to the data\r\n",
    "trans = transforms.Compose([transforms.ToTensor(), transforms.Normalize((0.1307,), (0.3081,))])\r\n",
    "\r\n",
    "# MNIST dataset\r\n",
    "train_dataset = torchvision.datasets.MNIST(root=DATA_PATH, train=True, transform=trans, download=True)\r\n",
    "test_dataset = torchvision.datasets.MNIST(root=DATA_PATH, train=False, transform=trans)"
   ],
   "outputs": [],
   "metadata": {}
  },
  {
   "cell_type": "code",
   "execution_count": 6,
   "source": [
    "# Data loader\r\n",
    "train_loader = DataLoader(dataset=train_dataset, batch_size=batch_size, shuffle=True)\r\n",
    "test_loader = DataLoader(dataset=test_dataset, batch_size=batch_size, shuffle=False)"
   ],
   "outputs": [],
   "metadata": {}
  },
  {
   "cell_type": "code",
   "execution_count": 7,
   "source": [
    "# Convolutional neural network (two convolutional layers)\r\n",
    "class ConvNet(nn.Module):\r\n",
    "    def __init__(self):\r\n",
    "        super(ConvNet, self).__init__()\r\n",
    "        self.layer1 = nn.Sequential(\r\n",
    "            nn.Conv2d(1, 32, kernel_size=5, stride=1, padding=2),\r\n",
    "            nn.ReLU(),\r\n",
    "            nn.MaxPool2d(kernel_size=2, stride=2))\r\n",
    "        self.layer2 = nn.Sequential(\r\n",
    "            nn.Conv2d(32, 64, kernel_size=5, stride=1, padding=2),\r\n",
    "            nn.ReLU(),\r\n",
    "            nn.MaxPool2d(kernel_size=2, stride=2))\r\n",
    "        self.drop_out = nn.Dropout()\r\n",
    "        self.fc1 = nn.Linear(7 * 7 * 64, 1000)\r\n",
    "        self.fc2 = nn.Linear(1000, 10)\r\n",
    "\r\n",
    "    def forward(self, x):\r\n",
    "        out = self.layer1(x)\r\n",
    "        out = self.layer2(out)\r\n",
    "        out = out.reshape(out.size(0), -1)\r\n",
    "        out = self.drop_out(out)\r\n",
    "        out = self.fc1(out)\r\n",
    "        out = self.fc2(out)\r\n",
    "        return out\r\n",
    "\r\n",
    "\r\n",
    "model = ConvNet()\r\n",
    "model.to(device)"
   ],
   "outputs": [
    {
     "output_type": "execute_result",
     "data": {
      "text/plain": [
       "ConvNet(\n",
       "  (layer1): Sequential(\n",
       "    (0): Conv2d(1, 32, kernel_size=(5, 5), stride=(1, 1), padding=(2, 2))\n",
       "    (1): ReLU()\n",
       "    (2): MaxPool2d(kernel_size=2, stride=2, padding=0, dilation=1, ceil_mode=False)\n",
       "  )\n",
       "  (layer2): Sequential(\n",
       "    (0): Conv2d(32, 64, kernel_size=(5, 5), stride=(1, 1), padding=(2, 2))\n",
       "    (1): ReLU()\n",
       "    (2): MaxPool2d(kernel_size=2, stride=2, padding=0, dilation=1, ceil_mode=False)\n",
       "  )\n",
       "  (drop_out): Dropout(p=0.5, inplace=False)\n",
       "  (fc1): Linear(in_features=3136, out_features=1000, bias=True)\n",
       "  (fc2): Linear(in_features=1000, out_features=10, bias=True)\n",
       ")"
      ]
     },
     "metadata": {},
     "execution_count": 7
    }
   ],
   "metadata": {}
  },
  {
   "cell_type": "code",
   "execution_count": 8,
   "source": [
    "logger = logger.CSVLogger(file_path='Loss_tabl')"
   ],
   "outputs": [],
   "metadata": {}
  },
  {
   "cell_type": "code",
   "execution_count": 9,
   "source": [
    "# Loss and optimizer\r\n",
    "criterion = nn.CrossEntropyLoss()\r\n",
    "optimizer = torch.optim.Adam(model.parameters(), lr=learning_rate)\r\n",
    "\r\n",
    "# Train the model\r\n",
    "total_step = len(train_loader)\r\n",
    "acc_list = []\r\n",
    "for epoch in range(num_epochs):\r\n",
    "    for i, (images, labels) in enumerate(train_loader):\r\n",
    "        # Run the forward pass\r\n",
    "        images, labels = images.to(device), labels.to(device)\r\n",
    "        outputs = model(images)\r\n",
    "        loss = criterion(outputs, labels)\r\n",
    "                \r\n",
    "        # Backprop and perform Adam optimisation\r\n",
    "        optimizer.zero_grad()\r\n",
    "        loss.backward()\r\n",
    "        optimizer.step()\r\n",
    "\r\n",
    "        # Track the accuracy\r\n",
    "        total = labels.size(0)\r\n",
    "        _, predicted = torch.max(outputs.data, 1)\r\n",
    "        correct = (predicted == labels).sum().item()\r\n",
    "        acc =(correct / total) * 100\r\n",
    "\r\n",
    "        if (i + 1) % 100 == 0:\r\n",
    "            print('Epoch [{}/{}], Step [{}/{}], Loss: {:.4f}, Accuracy: {:.2f}%'\r\n",
    "                  .format(epoch + 1, num_epochs, i + 1, total_step, loss.item(),\r\n",
    "                          (correct / total) * 100))\r\n",
    "            \r\n",
    "    # Save the loss to the file and build the graph        \r\n",
    "    #torch_loss.LossTorch(file_path='Loss_tabl', metric_key = 'Loss', graf_show = True).log(epoch = epoch, loss = loss)\r\n",
    "    logger.log(metric_key =['Loss', 'Accuracy'], metric_value = [loss.item(), acc], step = epoch)"
   ],
   "outputs": [
    {
     "output_type": "stream",
     "name": "stderr",
     "text": [
      "C:\\Users\\Nikolya\\anaconda3\\lib\\site-packages\\torch\\nn\\functional.py:718: UserWarning: Named tensors and all their associated APIs are an experimental feature and subject to change. Please do not use them for anything important until they are released as stable. (Triggered internally at  ..\\c10/core/TensorImpl.h:1156.)\n",
      "  return torch.max_pool2d(input, kernel_size, stride, padding, dilation, ceil_mode)\n"
     ]
    },
    {
     "output_type": "stream",
     "name": "stdout",
     "text": [
      "Epoch [1/6], Step [100/600], Loss: 0.1920, Accuracy: 96.00%\n",
      "Epoch [1/6], Step [200/600], Loss: 0.1342, Accuracy: 96.00%\n",
      "Epoch [1/6], Step [300/600], Loss: 0.2017, Accuracy: 92.00%\n",
      "Epoch [1/6], Step [400/600], Loss: 0.1053, Accuracy: 99.00%\n",
      "Epoch [1/6], Step [500/600], Loss: 0.0574, Accuracy: 98.00%\n",
      "Epoch [1/6], Step [600/600], Loss: 0.0674, Accuracy: 98.00%\n",
      "Epoch [2/6], Step [100/600], Loss: 0.0605, Accuracy: 97.00%\n",
      "Epoch [2/6], Step [200/600], Loss: 0.0742, Accuracy: 96.00%\n",
      "Epoch [2/6], Step [300/600], Loss: 0.0752, Accuracy: 97.00%\n",
      "Epoch [2/6], Step [400/600], Loss: 0.1380, Accuracy: 97.00%\n",
      "Epoch [2/6], Step [500/600], Loss: 0.0560, Accuracy: 96.00%\n",
      "Epoch [2/6], Step [600/600], Loss: 0.0882, Accuracy: 96.00%\n",
      "Epoch [3/6], Step [100/600], Loss: 0.1567, Accuracy: 98.00%\n",
      "Epoch [3/6], Step [200/600], Loss: 0.0952, Accuracy: 97.00%\n",
      "Epoch [3/6], Step [300/600], Loss: 0.0508, Accuracy: 99.00%\n",
      "Epoch [3/6], Step [400/600], Loss: 0.0185, Accuracy: 100.00%\n",
      "Epoch [3/6], Step [500/600], Loss: 0.0558, Accuracy: 98.00%\n",
      "Epoch [3/6], Step [600/600], Loss: 0.0043, Accuracy: 100.00%\n",
      "Epoch [4/6], Step [100/600], Loss: 0.0887, Accuracy: 96.00%\n",
      "Epoch [4/6], Step [200/600], Loss: 0.0659, Accuracy: 98.00%\n",
      "Epoch [4/6], Step [300/600], Loss: 0.0416, Accuracy: 98.00%\n",
      "Epoch [4/6], Step [400/600], Loss: 0.0662, Accuracy: 99.00%\n",
      "Epoch [4/6], Step [500/600], Loss: 0.0958, Accuracy: 95.00%\n",
      "Epoch [4/6], Step [600/600], Loss: 0.0492, Accuracy: 98.00%\n",
      "Epoch [5/6], Step [100/600], Loss: 0.1672, Accuracy: 97.00%\n",
      "Epoch [5/6], Step [200/600], Loss: 0.0174, Accuracy: 99.00%\n",
      "Epoch [5/6], Step [300/600], Loss: 0.0541, Accuracy: 99.00%\n",
      "Epoch [5/6], Step [400/600], Loss: 0.0326, Accuracy: 99.00%\n",
      "Epoch [5/6], Step [500/600], Loss: 0.0117, Accuracy: 99.00%\n",
      "Epoch [5/6], Step [600/600], Loss: 0.0455, Accuracy: 99.00%\n",
      "Epoch [6/6], Step [100/600], Loss: 0.0280, Accuracy: 98.00%\n",
      "Epoch [6/6], Step [200/600], Loss: 0.1085, Accuracy: 96.00%\n",
      "Epoch [6/6], Step [300/600], Loss: 0.1192, Accuracy: 98.00%\n",
      "Epoch [6/6], Step [400/600], Loss: 0.0131, Accuracy: 100.00%\n",
      "Epoch [6/6], Step [500/600], Loss: 0.1296, Accuracy: 96.00%\n",
      "Epoch [6/6], Step [600/600], Loss: 0.0083, Accuracy: 100.00%\n"
     ]
    }
   ],
   "metadata": {
    "scrolled": false
   }
  },
  {
   "cell_type": "code",
   "execution_count": 10,
   "source": [
    "# Test the model\r\n",
    "model.eval()\r\n",
    "with torch.no_grad():\r\n",
    "    correct = 0\r\n",
    "    total = 0\r\n",
    "    for images, labels in test_loader:\r\n",
    "        images, labels = images.to(device), labels.to(device)\r\n",
    "        outputs = model(images)\r\n",
    "        _, predicted = torch.max(outputs.data, 1)\r\n",
    "        total += labels.size(0)\r\n",
    "        correct += (predicted == labels).sum().item()\r\n",
    "\r\n",
    "    print('Test Accuracy of the model on the 10000 test images: {} %'.format((correct / total) * 100))"
   ],
   "outputs": [
    {
     "output_type": "stream",
     "name": "stdout",
     "text": [
      "Test Accuracy of the model on the 10000 test images: 99.07000000000001 %\n"
     ]
    }
   ],
   "metadata": {
    "scrolled": false
   }
  }
 ],
 "metadata": {
  "interpreter": {
   "hash": "bcd4279a46ae55e729019ef0bc3b545cf29015ae666f40b6f8ba7708b3cb7bc1"
  },
  "kernelspec": {
   "display_name": "Python 3",
   "language": "python",
   "name": "python3"
  },
  "language_info": {
   "codemirror_mode": {
    "name": "ipython",
    "version": 3
   },
   "file_extension": ".py",
   "mimetype": "text/x-python",
   "name": "python",
   "nbconvert_exporter": "python",
   "pygments_lexer": "ipython3",
   "version": "3.8.10"
  }
 },
 "nbformat": 4,
 "nbformat_minor": 5
}