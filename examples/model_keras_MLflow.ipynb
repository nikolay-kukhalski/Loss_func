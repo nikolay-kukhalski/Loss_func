{
 "cells": [
  {
   "cell_type": "code",
   "execution_count": 1,
   "source": [
    "# Загрузить библиотеки\r\n",
    "import numpy as np\r\n",
    "from keras.datasets import mnist\r\n",
    "from keras.models import Sequential\r\n",
    "from keras.layers import Dense, Dropout, Flatten\r\n",
    "from keras.layers.convolutional import Conv2D, MaxPooling2D\r\n",
    "from keras.utils import np_utils\r\n",
    "from keras import backend as K\r\n",
    "\r\n",
    "import tensorflow as tf\r\n",
    "import datetime\r\n",
    "import mlflow"
   ],
   "outputs": [
    {
     "output_type": "stream",
     "name": "stderr",
     "text": [
      "Using TensorFlow backend.\n"
     ]
    }
   ],
   "metadata": {}
  },
  {
   "cell_type": "code",
   "execution_count": 2,
   "source": [
    "# Сделать значение цветового канала первым\r\n",
    "#K.set_image_data_format(\"channels_first\")\r\n",
    "\r\n",
    "# Задать информацию об изображении\r\n",
    "channels = 1\r\n",
    "height = 28\r\n",
    "width = 28"
   ],
   "outputs": [],
   "metadata": {}
  },
  {
   "cell_type": "code",
   "execution_count": 3,
   "source": [
    "# Загрузить данные и цель из набора данных MNIST рукописных цифр  \r\n",
    "(data_train, target_train), (data_test, target_test) = mnist.load_data()\r\n",
    "\r\n",
    "# # Реформировать тренировочные данные об изображениях в признаки\r\n",
    "data_train = data_train.reshape(data_train.shape[0], height, width, channels)\r\n",
    "\r\n",
    "# # Реформировать тестовые данные об изображениях в признаки\r\n",
    "data_test = data_test.reshape(data_test.shape[0], height, width, channels)\r\n",
    "\r\n",
    "# Прошкалировать пиксельную интенсивность в диапазон между 0 и 1\r\n",
    "features_train = data_train / 255\r\n",
    "features_test = data_test / 255\r\n",
    "\r\n",
    "# Преобразовать цель в кодировку с одним активным состоянием\r\n",
    "target_train = np_utils.to_categorical(target_train)\r\n",
    "target_test = np_utils.to_categorical(target_test)\r\n",
    "number_of_classes = target_test.shape[1]"
   ],
   "outputs": [],
   "metadata": {}
  },
  {
   "cell_type": "code",
   "execution_count": 4,
   "source": [
    "# Инициализировать нейронную сеть\r\n",
    "network = Sequential()\r\n",
    "\r\n",
    "# Добавить сверточный слой с 64 фильтрами, окном 5x5 и \r\n",
    "# активационной функций ReLU\r\n",
    "network.add(Conv2D(filters=64,\r\n",
    "                   kernel_size=(5, 5),\r\n",
    "                   input_shape=(width, height, channels),\r\n",
    "                   activation='relu'))\r\n",
    "\r\n",
    "# Добавить максимально редуцирующий слой с окном 2x2\r\n",
    "network.add(MaxPooling2D(pool_size=(2, 2)))\r\n",
    "\r\n",
    "# Добавить отсеивающий слой\r\n",
    "network.add(Dropout(0.3))\r\n",
    "\r\n",
    "# Добавить слой для сглаживания входа\r\n",
    "network.add(Flatten())\r\n",
    "\r\n",
    "# Добавить полносвязный слой из 128 блоков с\r\n",
    "# активационной функций ReLU\r\n",
    "network.add(Dense(128, activation=\"relu\"))\r\n",
    "\r\n",
    "# Добавить отсеивающий слой\r\n",
    "network.add(Dropout(0.5))\r\n",
    "\r\n",
    "# Добавить полносвязный слой c\r\n",
    "# активационной функцией softmax\r\n",
    "network.add(Dense(number_of_classes, activation=\"softmax\"))"
   ],
   "outputs": [],
   "metadata": {}
  },
  {
   "cell_type": "code",
   "execution_count": 5,
   "source": [
    "from logger_metric.loggers import csvlog\r\n",
    "from logger_metric.loggers import tblog\r\n",
    "from logger_metric.loggers import mlflog\r\n",
    "\r\n",
    "from logger_metric.loggers import tfcallback"
   ],
   "outputs": [],
   "metadata": {}
  },
  {
   "cell_type": "code",
   "execution_count": 6,
   "source": [
    "# CSV логгирование\r\n",
    "#logger = csvlog.CSVLogger(file_path='Loss_tabl', metric_key_list=['Loss', 'Accuracy'])\r\n",
    "\r\n",
    "# Tensorboard логгирование\r\n",
    "#logger = tblog.TBLogger(dir_path='TB_metric', metric_key_list =['Loss', 'Accuracy'])\r\n",
    "\r\n",
    "# MLflow логгирование\r\n",
    "logger = mlflog.MLFLogger(dir_path='d:/7777/MLF_metric', metric_key_list =['Loss', 'Accuracy'])\r\n",
    "\r\n",
    "\r\n",
    "logger_callback = tfcallback.LoggerCallback(logger=logger, field_name_mapping={'Loss': 'loss', 'Accuracy': 'accuracy'})"
   ],
   "outputs": [],
   "metadata": {}
  },
  {
   "cell_type": "code",
   "execution_count": 7,
   "source": [
    " # Скомплировать нейронную сеть\r\n",
    "network.compile(\r\n",
    "    loss=\"categorical_crossentropy\", # Перекрестная энтропия\r\n",
    "    optimizer=\"rmsprop\",  # Распространение СКО\r\n",
    "    metrics=[\"accuracy\"]) # Точностный показатель результативности"
   ],
   "outputs": [],
   "metadata": {
    "scrolled": false
   }
  },
  {
   "cell_type": "code",
   "execution_count": 9,
   "source": [
    "with mlflow.start_run() as run:\r\n",
    "\r\n",
    "    # Натренировать нейронную сеть\r\n",
    "    history = network.fit(\r\n",
    "        features_train,  # Признаки\r\n",
    "        target_train,    # Цель\r\n",
    "        epochs=7,        # Количество эпох\r\n",
    "        verbose=1,       # Печатать описание после каждой эпохи\r\n",
    "        batch_size=1000, # Количество наблюдений на пакет\r\n",
    "        validation_data=(features_test, target_test), # Данные для оценивания\r\n",
    "        callbacks=[logger_callback]) "
   ],
   "outputs": [
    {
     "output_type": "stream",
     "name": "stderr",
     "text": [
      "2021/08/23 23:19:19 WARNING mlflow.tracking.context.git_context: Failed to import Git (the Git executable is probably not on your PATH), so Git SHA is not available. Error: Failed to initialize: Bad git executable.\n",
      "The git executable must be specified in one of the following ways:\n",
      "    - be included in your $PATH\n",
      "    - be set via $GIT_PYTHON_GIT_EXECUTABLE\n",
      "    - explicitly set via git.refresh()\n",
      "\n",
      "All git commands will error until this is rectified.\n",
      "\n",
      "This initial warning can be silenced or aggravated in the future by setting the\n",
      "$GIT_PYTHON_REFRESH environment variable. Use one of the following values:\n",
      "    - quiet|q|silence|s|none|n|0: for no warning or exception\n",
      "    - warn|w|warning|1: for a printed warning\n",
      "    - error|e|raise|r|2: for a raised exception\n",
      "\n",
      "Example:\n",
      "    export GIT_PYTHON_REFRESH=quiet\n",
      "\n"
     ]
    },
    {
     "output_type": "stream",
     "name": "stdout",
     "text": [
      "Epoch 1/7\n",
      " 5/60 [=>............................] - ETA: 2s - loss: 2.0306 - accuracy: 0.2700WARNING:tensorflow:Callback method `on_train_batch_end` is slow compared to the batch time (batch time: 0.0040s vs `on_train_batch_end` time: 0.0294s). Check your callbacks.\n",
      "60/60 [==============================] - 5s 54ms/step - loss: 0.9394 - accuracy: 0.6982 - val_loss: 0.1460 - val_accuracy: 0.9583\n",
      "Epoch 2/7\n",
      "60/60 [==============================] - 2s 41ms/step - loss: 0.1928 - accuracy: 0.9447 - val_loss: 0.0739 - val_accuracy: 0.9763\n",
      "Epoch 3/7\n",
      "60/60 [==============================] - 2s 41ms/step - loss: 0.1141 - accuracy: 0.9661 - val_loss: 0.0566 - val_accuracy: 0.9824\n",
      "Epoch 4/7\n",
      "60/60 [==============================] - 2s 41ms/step - loss: 0.0913 - accuracy: 0.9732 - val_loss: 0.0510 - val_accuracy: 0.9820\n",
      "Epoch 5/7\n",
      "60/60 [==============================] - 2s 41ms/step - loss: 0.0703 - accuracy: 0.9789 - val_loss: 0.0407 - val_accuracy: 0.9866\n",
      "Epoch 6/7\n",
      "60/60 [==============================] - 2s 41ms/step - loss: 0.0631 - accuracy: 0.9808 - val_loss: 0.0368 - val_accuracy: 0.9875\n",
      "Epoch 7/7\n",
      "60/60 [==============================] - 2s 41ms/step - loss: 0.0518 - accuracy: 0.9848 - val_loss: 0.0340 - val_accuracy: 0.9887\n"
     ]
    }
   ],
   "metadata": {}
  },
  {
   "cell_type": "code",
   "execution_count": 10,
   "source": [
    "%tensorboard --logdir='TB_metric'"
   ],
   "outputs": [
    {
     "output_type": "stream",
     "name": "stderr",
     "text": [
      "UsageError: Line magic function `%tensorboard` not found.\n"
     ]
    }
   ],
   "metadata": {}
  }
 ],
 "metadata": {
  "interpreter": {
   "hash": "bcd4279a46ae55e729019ef0bc3b545cf29015ae666f40b6f8ba7708b3cb7bc1"
  },
  "kernelspec": {
   "name": "python3",
   "display_name": "Python 3.8.10 64-bit ('base': conda)"
  },
  "language_info": {
   "codemirror_mode": {
    "name": "ipython",
    "version": 3
   },
   "file_extension": ".py",
   "mimetype": "text/x-python",
   "name": "python",
   "nbconvert_exporter": "python",
   "pygments_lexer": "ipython3",
   "version": "3.8.10"
  }
 },
 "nbformat": 4,
 "nbformat_minor": 5
}