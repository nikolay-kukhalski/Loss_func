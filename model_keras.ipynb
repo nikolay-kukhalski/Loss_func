{
 "cells": [
  {
   "cell_type": "code",
   "execution_count": 1,
   "source": [
    "# Загрузить библиотеки\n",
    "import numpy as np\n",
    "from keras.datasets import mnist\n",
    "from keras.models import Sequential\n",
    "from keras.layers import Dense, Dropout, Flatten\n",
    "from keras.layers.convolutional import Conv2D, MaxPooling2D\n",
    "from keras.utils import np_utils\n",
    "from keras import backend as K\n",
    "\n",
    "import tensorflow as tf\n",
    "import datetime"
   ],
   "outputs": [
    {
     "output_type": "stream",
     "name": "stderr",
     "text": [
      "Using TensorFlow backend.\n"
     ]
    }
   ],
   "metadata": {}
  },
  {
   "cell_type": "code",
   "execution_count": 2,
   "source": [
    "# Сделать значение цветового канала первым\n",
    "#K.set_image_data_format(\"channels_first\")\n",
    "\n",
    "# Задать информацию об изображении\n",
    "channels = 1\n",
    "height = 28\n",
    "width = 28"
   ],
   "outputs": [],
   "metadata": {}
  },
  {
   "cell_type": "code",
   "execution_count": 3,
   "source": [
    "# Загрузить данные и цель из набора данных MNIST рукописных цифр  \n",
    "(data_train, target_train), (data_test, target_test) = mnist.load_data()\n",
    "\n",
    "# # Реформировать тренировочные данные об изображениях в признаки\n",
    "data_train = data_train.reshape(data_train.shape[0], height, width, channels)\n",
    "\n",
    "# # Реформировать тестовые данные об изображениях в признаки\n",
    "data_test = data_test.reshape(data_test.shape[0], height, width, channels)\n",
    "\n",
    "# Прошкалировать пиксельную интенсивность в диапазон между 0 и 1\n",
    "features_train = data_train / 255\n",
    "features_test = data_test / 255\n",
    "\n",
    "# Преобразовать цель в кодировку с одним активным состоянием\n",
    "target_train = np_utils.to_categorical(target_train)\n",
    "target_test = np_utils.to_categorical(target_test)\n",
    "number_of_classes = target_test.shape[1]"
   ],
   "outputs": [],
   "metadata": {}
  },
  {
   "cell_type": "code",
   "execution_count": 4,
   "source": [
    "# Инициализировать нейронную сеть\n",
    "network = Sequential()\n",
    "\n",
    "# Добавить сверточный слой с 64 фильтрами, окном 5x5 и \n",
    "# активационной функций ReLU\n",
    "network.add(Conv2D(filters=64,\n",
    "                   kernel_size=(5, 5),\n",
    "                   input_shape=(width, height, channels),\n",
    "                   activation='relu'))\n",
    "\n",
    "# Добавить максимально редуцирующий слой с окном 2x2\n",
    "network.add(MaxPooling2D(pool_size=(2, 2)))\n",
    "\n",
    "# Добавить отсеивающий слой\n",
    "network.add(Dropout(0.3))\n",
    "\n",
    "# Добавить слой для сглаживания входа\n",
    "network.add(Flatten())\n",
    "\n",
    "# Добавить полносвязный слой из 128 блоков с\n",
    "# активационной функций ReLU\n",
    "network.add(Dense(128, activation=\"relu\"))\n",
    "\n",
    "# Добавить отсеивающий слой\n",
    "network.add(Dropout(0.5))\n",
    "\n",
    "# Добавить полносвязный слой c\n",
    "# активационной функцией softmax\n",
    "network.add(Dense(number_of_classes, activation=\"softmax\"))"
   ],
   "outputs": [],
   "metadata": {}
  },
  {
   "cell_type": "code",
   "execution_count": 5,
   "source": [
    "#from logger import keras_metric\n",
    "from logger.logger import CSVLogger\n",
    "from logger.tf import LoggerCallback"
   ],
   "outputs": [],
   "metadata": {}
  },
  {
   "cell_type": "code",
   "execution_count": 6,
   "source": [
    "\n",
    "#callback = keras_metric.LoggerFile(file_path= 'Loss_tabl', metric_key=[\"accuracy\"])\n",
    "\n",
    "logger = CSVLogger(file_path='Loss_tabl', metric_key_list=['Loss', 'Accuracy'])\n",
    "logger_callback = LoggerCallback(logger=logger, field_name_mapping={'Loss': 'loss', 'Accuracy': 'accuracy'})"
   ],
   "outputs": [],
   "metadata": {}
  },
  {
   "cell_type": "code",
   "execution_count": 8,
   "source": [
    "# Скомплировать нейронную сеть\n",
    "network.compile(\n",
    "    loss=\"categorical_crossentropy\", # Перекрестная энтропия\n",
    "    optimizer=\"rmsprop\",  # Распространение СКО\n",
    "    metrics=[\"accuracy\"]) # Точностный показатель результативности\n",
    "\n",
    "# Натренировать нейронную сеть\n",
    "history = network.fit(\n",
    "    features_train,  # Признаки\n",
    "    target_train,    # Цель\n",
    "    epochs=7,        # Количество эпох\n",
    "    verbose=1,       # Печатать описание после каждой эпохи\n",
    "    batch_size=1000, # Количество наблюдений на пакет\n",
    "    validation_data=(features_test, target_test), # Данные для оценивания\n",
    "    callbacks=[logger_callback]) "
   ],
   "outputs": [
    {
     "output_type": "stream",
     "name": "stdout",
     "text": [
      "Epoch 1/7\n",
      " 5/60 [=>............................] - ETA: 2s - loss: 2.0417 - accuracy: 0.2627WARNING:tensorflow:Callback method `on_train_batch_end` is slow compared to the batch time (batch time: 0.0042s vs `on_train_batch_end` time: 0.0306s). Check your callbacks.\n",
      "60/60 [==============================] - 6s 54ms/step - loss: 0.9950 - accuracy: 0.6762 - val_loss: 0.1720 - val_accuracy: 0.9493\n",
      "Epoch 2/7\n",
      "60/60 [==============================] - 2s 41ms/step - loss: 0.2185 - accuracy: 0.9364 - val_loss: 0.0960 - val_accuracy: 0.9701\n",
      "Epoch 3/7\n",
      "60/60 [==============================] - 2s 41ms/step - loss: 0.1340 - accuracy: 0.9616 - val_loss: 0.0662 - val_accuracy: 0.9789\n",
      "Epoch 4/7\n",
      "60/60 [==============================] - 2s 41ms/step - loss: 0.1000 - accuracy: 0.9714 - val_loss: 0.0506 - val_accuracy: 0.9831\n",
      "Epoch 5/7\n",
      "60/60 [==============================] - 2s 41ms/step - loss: 0.0828 - accuracy: 0.9746 - val_loss: 0.0443 - val_accuracy: 0.9844\n",
      "Epoch 6/7\n",
      "60/60 [==============================] - 2s 41ms/step - loss: 0.0683 - accuracy: 0.9795 - val_loss: 0.0413 - val_accuracy: 0.9861\n",
      "Epoch 7/7\n",
      "60/60 [==============================] - 2s 41ms/step - loss: 0.0588 - accuracy: 0.9825 - val_loss: 0.0348 - val_accuracy: 0.9873\n"
     ]
    }
   ],
   "metadata": {
    "scrolled": false
   }
  },
  {
   "cell_type": "code",
   "execution_count": 9,
   "source": [
    "%tensorboard --logdir='Log'"
   ],
   "outputs": [
    {
     "output_type": "stream",
     "name": "stderr",
     "text": [
      "UsageError: Line magic function `%tensorboard` not found.\n"
     ]
    }
   ],
   "metadata": {}
  },
  {
   "cell_type": "code",
   "execution_count": null,
   "source": [],
   "outputs": [],
   "metadata": {}
  }
 ],
 "metadata": {
  "interpreter": {
   "hash": "bcd4279a46ae55e729019ef0bc3b545cf29015ae666f40b6f8ba7708b3cb7bc1"
  },
  "kernelspec": {
   "name": "python3",
   "display_name": "Python 3.8.10 64-bit ('base': conda)"
  },
  "language_info": {
   "codemirror_mode": {
    "name": "ipython",
    "version": 3
   },
   "file_extension": ".py",
   "mimetype": "text/x-python",
   "name": "python",
   "nbconvert_exporter": "python",
   "pygments_lexer": "ipython3",
   "version": "3.8.10"
  }
 },
 "nbformat": 4,
 "nbformat_minor": 5
}